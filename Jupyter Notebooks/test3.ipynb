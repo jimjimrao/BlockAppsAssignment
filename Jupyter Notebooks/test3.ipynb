{
 "cells": [
  {
   "cell_type": "code",
   "execution_count": 27,
   "metadata": {},
   "outputs": [],
   "source": [
    "import sys\n",
    "import struct"
   ]
  },
  {
   "cell_type": "code",
   "execution_count": 28,
   "metadata": {},
   "outputs": [
    {
     "name": "stdout",
     "output_type": "stream",
     "text": [
      "sample\n"
     ]
    }
   ],
   "source": [
    "file_name = \"sample\"\n",
    "print(file_name)"
   ]
  },
  {
   "cell_type": "code",
   "execution_count": 29,
   "metadata": {},
   "outputs": [
    {
     "name": "stdout",
     "output_type": "stream",
     "text": [
      "426 640\n",
      "426 640 817920 1920\n"
     ]
    },
    {
     "name": "stderr",
     "output_type": "stream",
     "text": [
      "IOPub data rate exceeded.\n",
      "The notebook server will temporarily stop sending output\n",
      "to the client in order to avoid crashing it.\n",
      "To change this limit, set the config variable\n",
      "`--NotebookApp.iopub_data_rate_limit`.\n",
      "\n",
      "Current values:\n",
      "NotebookApp.iopub_data_rate_limit=1000000.0 (bytes/sec)\n",
      "NotebookApp.rate_limit_window=3.0 (secs)\n",
      "\n"
     ]
    }
   ],
   "source": [
    "with open(f'{file_name}.bmp', 'rb') as bmp:\n",
    "\n",
    "    # Getting the offset postion 10 -> 4 reads\n",
    "    bmp.seek(10, 0)\n",
    "    offset = struct.unpack('I', bmp.read(4))[0]\n",
    "\n",
    "    # Get the height & width  : postion 18,22 -> 4 reads\n",
    "    bmp.seek(18, 0)\n",
    "    bmp_w = struct.unpack('I', bmp.read(4))[0]\n",
    "    bmp_h = struct.unpack('I', bmp.read(4))[0]\n",
    "\n",
    "    print(bmp_h, bmp_w)\n",
    "\n",
    "# Get the size  : postion 34 -> 4 reads\n",
    "    bmp.seek(34, 0)\n",
    "    bmp_s = struct.unpack('I', bmp.read(4))[0]\n",
    "\n",
    "\n",
    "# Getting the number of bytes in a row\n",
    "    bmp_b = int(bmp_s/bmp_h)\n",
    "    print(bmp_h, bmp_w, bmp_s, bmp_b)\n",
    "# 3-  Reading Data from the Picture\n",
    "    bmp.seek(offset, 0)\n",
    "\n",
    "    bmp_line = ''\n",
    "    bmp_list = []\n",
    "    bmp_list_v = []\n",
    "\n",
    "    for line in range(bmp_h):\n",
    "        for byte in range(0,bmp_b,3):\n",
    "#             print('pixel:',line,byte)\n",
    "            temp = []\n",
    "            bmp_byte = bmp.read(1)\n",
    "            for i in range(3):\n",
    "                temp.append(struct.unpack('B', bmp_byte)[0])\n",
    "#             print(temp)\n",
    "            bmp_list.appendpend(temp)\n",
    "    print(bmp_list)\n"
   ]
  },
  {
   "cell_type": "code",
   "execution_count": null,
   "metadata": {},
   "outputs": [],
   "source": []
  }
 ],
 "metadata": {
  "kernelspec": {
   "display_name": "Python 3",
   "language": "python",
   "name": "python3"
  },
  "language_info": {
   "codemirror_mode": {
    "name": "ipython",
    "version": 3
   },
   "file_extension": ".py",
   "mimetype": "text/x-python",
   "name": "python",
   "nbconvert_exporter": "python",
   "pygments_lexer": "ipython3",
   "version": "3.7.4"
  }
 },
 "nbformat": 4,
 "nbformat_minor": 2
}
