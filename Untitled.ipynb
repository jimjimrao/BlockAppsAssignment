{
 "cells": [
  {
   "cell_type": "code",
   "execution_count": 1,
   "metadata": {},
   "outputs": [],
   "source": [
    "import numpy as np\n",
    "import skimage.io\n",
    "import struct"
   ]
  },
  {
   "cell_type": "code",
   "execution_count": 19,
   "metadata": {},
   "outputs": [],
   "source": [
    "def info(path):\n",
    "    with open(path, 'rb') as bmp: \n",
    "        print('Type:', bmp.read(2).decode()) \n",
    "        print('Size: %s' % struct.unpack('I', bmp.read(4))) \n",
    "        print('Reserved 1: %s' % struct.unpack('H', bmp.read(2))) \n",
    "        print('Reserved 2: %s' % struct.unpack('H', bmp.read(2))) \n",
    "        print('Offset: %s' % struct.unpack('I', bmp.read(4))) \n",
    "        print('DIB Header Size: %s' % struct.unpack('I', bmp.read(4))) \n",
    "        print('Width: %s' % struct.unpack('I', bmp.read(4))) \n",
    "        print('Height: %s' % struct.unpack('I', bmp.read(4))) \n",
    "        print('Colour Planes: %s' % struct.unpack('H', bmp.read(2))) \n",
    "        print('Bits per Pixel: %s' % struct.unpack('H', bmp.read(2))) \n",
    "        print('Compression Method: %s' % struct.unpack('I', bmp.read(4))) \n",
    "        print('Raw Image Size: %s' % struct.unpack('I', bmp.read(4))) \n",
    "        print('Horizontal Resolution: %s' % struct.unpack('I', bmp.read(4))) \n",
    "        print('Vertical Resolution: %s' % struct.unpack('I', bmp.read(4))) \n",
    "        print('Number of Colours: %s' % struct.unpack('I', bmp.read(4))) \n",
    "        print('Important Colours: %s' % struct.unpack('I', bmp.read(4)))"
   ]
  },
  {
   "cell_type": "code",
   "execution_count": 22,
   "metadata": {
    "scrolled": true
   },
   "outputs": [
    {
     "name": "stdout",
     "output_type": "stream",
     "text": [
      "Type: BM\n",
      "Size: 196662\n",
      "Reserved 1: 0\n",
      "Reserved 2: 0\n",
      "Offset: 54\n",
      "DIB Header Size: 40\n",
      "Width: 256\n",
      "Height: 256\n",
      "Colour Planes: 1\n",
      "Bits per Pixel: 24\n",
      "Compression Method: 0\n",
      "Raw Image Size: 0\n",
      "Horizontal Resolution: 0\n",
      "Vertical Resolution: 0\n",
      "Number of Colours: 0\n",
      "Important Colours: 0\n"
     ]
    }
   ],
   "source": [
    "info('snail.bmp')"
   ]
  },
  {
   "cell_type": "code",
   "execution_count": 23,
   "metadata": {},
   "outputs": [
    {
     "name": "stdout",
     "output_type": "stream",
     "text": [
      "Type: BM\n",
      "Size: 818058\n",
      "Reserved 1: 0\n",
      "Reserved 2: 0\n",
      "Offset: 138\n",
      "DIB Header Size: 124\n",
      "Width: 640\n",
      "Height: 426\n",
      "Colour Planes: 1\n",
      "Bits per Pixel: 24\n",
      "Compression Method: 0\n",
      "Raw Image Size: 817920\n",
      "Horizontal Resolution: 0\n",
      "Vertical Resolution: 0\n",
      "Number of Colours: 0\n",
      "Important Colours: 0\n"
     ]
    }
   ],
   "source": [
    "info('sample.bmp')"
   ]
  },
  {
   "cell_type": "code",
   "execution_count": 24,
   "metadata": {
    "scrolled": true
   },
   "outputs": [
    {
     "name": "stdout",
     "output_type": "stream",
     "text": [
      "Type: BM\n",
      "Size: 2995046\n",
      "Reserved 1: 0\n",
      "Reserved 2: 0\n",
      "Offset: 54\n",
      "DIB Header Size: 40\n",
      "Width: 762\n",
      "Height: 1309\n",
      "Colour Planes: 1\n",
      "Bits per Pixel: 24\n",
      "Compression Method: 0\n",
      "Raw Image Size: 2994992\n",
      "Horizontal Resolution: 0\n",
      "Vertical Resolution: 0\n",
      "Number of Colours: 0\n",
      "Important Colours: 0\n"
     ]
    }
   ],
   "source": [
    "info('sample2.bmp')"
   ]
  },
  {
   "cell_type": "code",
   "execution_count": 25,
   "metadata": {},
   "outputs": [
    {
     "name": "stdout",
     "output_type": "stream",
     "text": [
      "Type: BM\n",
      "Size: 120054\n",
      "Reserved 1: 0\n",
      "Reserved 2: 0\n",
      "Offset: 54\n",
      "DIB Header Size: 40\n",
      "Width: 200\n",
      "Height: 200\n",
      "Colour Planes: 1\n",
      "Bits per Pixel: 24\n",
      "Compression Method: 0\n",
      "Raw Image Size: 0\n",
      "Horizontal Resolution: 0\n",
      "Vertical Resolution: 0\n",
      "Number of Colours: 0\n",
      "Important Colours: 0\n"
     ]
    }
   ],
   "source": [
    "info('bmp_24.bmp')"
   ]
  },
  {
   "cell_type": "code",
   "execution_count": 15,
   "metadata": {},
   "outputs": [
    {
     "name": "stdout",
     "output_type": "stream",
     "text": [
      "Type: BM\n",
      "Size: 2995046\n",
      "Reserved 1: 0\n",
      "Reserved 2: 0\n",
      "Offset: 54\n",
      "DIB Header Size: 40\n",
      "Width: 762\n",
      "Height: 1309\n",
      "Colour Planes: 1\n",
      "Bits per Pixel: 24\n",
      "Compression Method: 0\n",
      "Raw Image Size: 2994992\n",
      "Horizontal Resolution: 0\n",
      "Vertical Resolution: 0\n",
      "Number of Colours: 0\n",
      "Important Colours: 0\n"
     ]
    }
   ],
   "source": [
    "path = \"sample2.bmp\"\n",
    "with open(path, 'rb') as bmp: \n",
    "    print('Type:', bmp.read(2).decode()) \n",
    "    print('Size: %s' % struct.unpack('I', bmp.read(4))) \n",
    "    print('Reserved 1: %s' % struct.unpack('H', bmp.read(2))) \n",
    "    print('Reserved 2: %s' % struct.unpack('H', bmp.read(2))) \n",
    "    print('Offset: %s' % struct.unpack('I', bmp.read(4))) \n",
    "    print('DIB Header Size: %s' % struct.unpack('I', bmp.read(4))) \n",
    "    print('Width: %s' % struct.unpack('I', bmp.read(4))) \n",
    "    print('Height: %s' % struct.unpack('I', bmp.read(4))) \n",
    "    print('Colour Planes: %s' % struct.unpack('H', bmp.read(2))) \n",
    "    print('Bits per Pixel: %s' % struct.unpack('H', bmp.read(2))) \n",
    "    print('Compression Method: %s' % struct.unpack('I', bmp.read(4))) \n",
    "    print('Raw Image Size: %s' % struct.unpack('I', bmp.read(4))) \n",
    "    print('Horizontal Resolution: %s' % struct.unpack('I', bmp.read(4))) \n",
    "    print('Vertical Resolution: %s' % struct.unpack('I', bmp.read(4))) \n",
    "    print('Number of Colours: %s' % struct.unpack('I', bmp.read(4))) \n",
    "    print('Important Colours: %s' % struct.unpack('I', bmp.read(4)))"
   ]
  },
  {
   "cell_type": "code",
   "execution_count": 10,
   "metadata": {},
   "outputs": [
    {
     "name": "stdout",
     "output_type": "stream",
     "text": [
      "Warning!!! Got 0 length string for green. Breaking.\n",
      "Repacking pixels...\n",
      "Packed 196596 sub-pixels.\n",
      "Error! Number of sub-pixels packed does not match 762*1309: (196596 - 762 * 1309 * 3 = -2795778).\n"
     ]
    }
   ],
   "source": [
    "def read_rows(path):\n",
    "    image_file = open(path, \"rb\")\n",
    "    # Blindly skip the BMP header.\n",
    "    image_file.seek(54)\n",
    "\n",
    "    # We need to read pixels in as rows to later swap the order\n",
    "    # since BMP stores pixels starting at the bottom left.\n",
    "    rows = []\n",
    "    row = []\n",
    "    pixel_index = 0\n",
    "\n",
    "    while True:\n",
    "        if pixel_index == 762:\n",
    "            pixel_index = 0\n",
    "            rows.insert(0, row)\n",
    "            if len(row) != 762 * 3:\n",
    "                raise Exception(\"Row length is not 762*3 but \" + str(len(row)) + \" / 3.0 = \" + str(len(row) / 3.0))\n",
    "            row = []\n",
    "        pixel_index += 1\n",
    "\n",
    "        r_string = image_file.read(1)\n",
    "        g_string = image_file.read(1)\n",
    "        b_string = image_file.read(1)\n",
    "\n",
    "        if len(r_string) == 0:\n",
    "            # This is expected to happen when we've read everything.\n",
    "            if len(rows) != 1309:\n",
    "                print(\"Warning!!! Read to the end of the file at the correct sub-pixel (red) but we've not read 1309 rows!\")\n",
    "            break\n",
    "\n",
    "        if len(g_string) == 0:\n",
    "            print(\"Warning!!! Got 0 length string for green. Breaking.\")\n",
    "            break\n",
    "\n",
    "        if len(b_string) == 0:\n",
    "            print(\"Warning!!! Got 0 length string for blue. Breaking.\")\n",
    "            break\n",
    "\n",
    "        r = ord(r_string)\n",
    "        g = ord(g_string)\n",
    "        b = ord(b_string)\n",
    "\n",
    "        row.append(b)\n",
    "        row.append(g)\n",
    "        row.append(r)\n",
    "\n",
    "    image_file.close()\n",
    "\n",
    "    return rows\n",
    "\n",
    "def repack_sub_pixels(rows):\n",
    "    print(\"Repacking pixels...\")\n",
    "    sub_pixels = []\n",
    "    for row in rows:\n",
    "        for sub_pixel in row:\n",
    "            sub_pixels.append(sub_pixel)\n",
    "\n",
    "    diff = len(sub_pixels) - 762 * 1309 * 3\n",
    "    print(\"Packed\", len(sub_pixels), \"sub-pixels.\")\n",
    "    if diff != 0:\n",
    "        print(\"Error! Number of sub-pixels packed does not match 762*1309: (\" + str(len(sub_pixels)) + \" - 762 * 1309 * 3 = \" + str(diff) +\").\")\n",
    "\n",
    "    return sub_pixels\n",
    "\n",
    "rows = read_rows(path)\n",
    "\n",
    "# This list is raw sub-pixel values. A red image is for example (255, 0, 0, 255, 0, 0, ...).\n",
    "sub_pixels = repack_sub_pixels(rows)"
   ]
  },
  {
   "cell_type": "code",
   "execution_count": null,
   "metadata": {},
   "outputs": [],
   "source": []
  }
 ],
 "metadata": {
  "kernelspec": {
   "display_name": "Python 3",
   "language": "python",
   "name": "python3"
  },
  "language_info": {
   "codemirror_mode": {
    "name": "ipython",
    "version": 3
   },
   "file_extension": ".py",
   "mimetype": "text/x-python",
   "name": "python",
   "nbconvert_exporter": "python",
   "pygments_lexer": "ipython3",
   "version": "3.7.4"
  }
 },
 "nbformat": 4,
 "nbformat_minor": 2
}
