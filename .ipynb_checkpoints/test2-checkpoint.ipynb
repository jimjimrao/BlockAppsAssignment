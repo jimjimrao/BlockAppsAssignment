{
 "cells": [
  {
   "cell_type": "code",
   "execution_count": 17,
   "metadata": {},
   "outputs": [],
   "source": [
    "import sys\n",
    "import struct"
   ]
  },
  {
   "cell_type": "code",
   "execution_count": 51,
   "metadata": {},
   "outputs": [],
   "source": [
    "file_name = \"MARBLES\""
   ]
  },
  {
   "cell_type": "code",
   "execution_count": 52,
   "metadata": {},
   "outputs": [
    {
     "name": "stdout",
     "output_type": "stream",
     "text": [
      "MARBLES\n"
     ]
    }
   ],
   "source": [
    "print(file_name)"
   ]
  },
  {
   "cell_type": "code",
   "execution_count": 59,
   "metadata": {},
   "outputs": [
    {
     "name": "stdout",
     "output_type": "stream",
     "text": [
      "54\n",
      "1001 1419\n",
      "bits per pixel: 24\n",
      "compression: 0\n",
      "1001 1419 0 0\n"
     ]
    }
   ],
   "source": [
    "with open(f'{file_name}.bmp', 'rb') as bmp:\n",
    "\n",
    "    # Getting the offset postion 10 -> 4 reads\n",
    "    bmp.seek(10, 0)\n",
    "    offset = struct.unpack('I', bmp.read(4))[0]\n",
    "    print(offset)\n",
    "\n",
    "    # Get the height & width  : postion 18,22 -> 4 reads\n",
    "    bmp.seek(18, 0)\n",
    "    bmp_w = struct.unpack('I', bmp.read(4))[0]\n",
    "    bmp_h = struct.unpack('I', bmp.read(4))[0]\n",
    "\n",
    "    print(bmp_h, bmp_w)\n",
    "\n",
    "    # Get bits per pixel : position 28 -> 2 reads \n",
    "    bmp.seek(28, 0)\n",
    "    bits_per_pixel = struct.unpack('H', bmp.read(2))[0]\n",
    "    print('bits per pixel:', bits_per_pixel)\n",
    "    \n",
    "    # Get compression : position 30 -> 4 reads \n",
    "    bmp.seek(30, 0)\n",
    "    compression = struct.unpack('I', bmp.read(4))[0]\n",
    "    print('compression:', compression)\n",
    "    \n",
    "    \n",
    "    # Get the size  : postion 34 -> 4 reads\n",
    "    bmp.seek(34, 0)\n",
    "    bmp_s = struct.unpack('I', bmp.read(4))[0]\n",
    "\n",
    "\n",
    "    # Getting the number of bytes in a row\n",
    "    bmp_b = int(bmp_s/bmp_h)\n",
    "    print(bmp_h, bmp_w, bmp_s, bmp_b)\n"
   ]
  },
  {
   "cell_type": "code",
   "execution_count": 71,
   "metadata": {},
   "outputs": [],
   "source": [
    "def check_bits_per_pixel(bmp, bpp = 24):\n",
    "  \n",
    "    # Getting the offset postion 10 -> 4 reads\n",
    "    bmp.seek(10, 0)\n",
    "    offset = struct.unpack('I', bmp.read(4))[0]\n",
    "\n",
    "    # Get bits per pixel : position 28 -> 2 reads \n",
    "    bmp.seek(28, 0)\n",
    "    bits_per_pixel = struct.unpack('H', bmp.read(2))[0]\n",
    "    return bits_per_pixel == bpp\n",
    "    "
   ]
  },
  {
   "cell_type": "code",
   "execution_count": 72,
   "metadata": {},
   "outputs": [],
   "source": [
    "def check_compression(bmp):\n",
    "    \n",
    "    # Getting the offset postion 10 -> 4 reads\n",
    "    bmp.seek(10, 0)\n",
    "    offset = struct.unpack('I', bmp.read(4))[0]\n",
    "    \n",
    "    # Get compression : position 30 -> 4 reads \n",
    "    bmp.seek(30, 0)\n",
    "    compression = struct.unpack('I', bmp.read(4))[0]\n",
    "    return compression == 0\n",
    "    "
   ]
  },
  {
   "cell_type": "code",
   "execution_count": 73,
   "metadata": {},
   "outputs": [
    {
     "name": "stdout",
     "output_type": "stream",
     "text": [
      "True\n",
      "True\n"
     ]
    }
   ],
   "source": [
    "with open(f'{file_name}.bmp', 'rb') as bmp:\n",
    "    print(check_bits_per_pixel(bmp))\n",
    "    print(check_compression(bmp))"
   ]
  },
  {
   "cell_type": "code",
   "execution_count": null,
   "metadata": {},
   "outputs": [],
   "source": []
  }
 ],
 "metadata": {
  "kernelspec": {
   "display_name": "Python 3",
   "language": "python",
   "name": "python3"
  },
  "language_info": {
   "codemirror_mode": {
    "name": "ipython",
    "version": 3
   },
   "file_extension": ".py",
   "mimetype": "text/x-python",
   "name": "python",
   "nbconvert_exporter": "python",
   "pygments_lexer": "ipython3",
   "version": "3.7.4"
  }
 },
 "nbformat": 4,
 "nbformat_minor": 2
}
