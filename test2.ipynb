{
 "cells": [
  {
   "cell_type": "code",
   "execution_count": 17,
   "metadata": {},
   "outputs": [],
   "source": [
    "import sys\n",
    "import struct"
   ]
  },
  {
   "cell_type": "code",
   "execution_count": 18,
   "metadata": {},
   "outputs": [],
   "source": [
    "file_name = \"sample\""
   ]
  },
  {
   "cell_type": "code",
   "execution_count": 19,
   "metadata": {},
   "outputs": [
    {
     "name": "stdout",
     "output_type": "stream",
     "text": [
      "sample\n"
     ]
    }
   ],
   "source": [
    "print(file_name)"
   ]
  },
  {
   "cell_type": "code",
   "execution_count": 27,
   "metadata": {},
   "outputs": [
    {
     "name": "stdout",
     "output_type": "stream",
     "text": [
      "138\n",
      "bits per pixel: 24\n",
      "853 1280 3275520 3840\n"
     ]
    }
   ],
   "source": [
    "with open(f'{file_name}.bmp', 'rb') as bmp:\n",
    "\n",
    "    # Getting the offset postion 10 -> 4 reads\n",
    "    bmp.seek(10, 0)\n",
    "    offset = struct.unpack('I', bmp.read(4))[0]\n",
    "    print(offset)\n",
    "\n",
    "    # Get the height & width  : postion 18,22 -> 4 reads\n",
    "    bmp.seek(18, 0)\n",
    "    bmp_w = struct.unpack('I', bmp.read(4))[0]\n",
    "    bmp_h = struct.unpack('I', bmp.read(4))[0]\n",
    "\n",
    "    print(bmp_h, bmp_w)\n",
    "\n",
    "    # Get bits per pixel : position 28 -> 2 reads \n",
    "    bmp.seek(28, 0)\n",
    "    bits_per_pixel = struct.unpack('H', bmp.read(2))[0]\n",
    "    print('bits per pixel:', bits_per_pixel)\n",
    "    \n",
    "    \n",
    "    # Get the size  : postion 34 -> 4 reads\n",
    "    bmp.seek(34, 0)\n",
    "    bmp_s = struct.unpack('I', bmp.read(4))[0]\n",
    "\n",
    "\n",
    "    # Getting the number of bytes in a row\n",
    "    bmp_b = int(bmp_s/bmp_h)\n",
    "    print(bmp_h, bmp_w, bmp_s, bmp_b)\n"
   ]
  },
  {
   "cell_type": "code",
   "execution_count": null,
   "metadata": {},
   "outputs": [],
   "source": []
  }
 ],
 "metadata": {
  "kernelspec": {
   "display_name": "Python 3",
   "language": "python",
   "name": "python3"
  },
  "language_info": {
   "codemirror_mode": {
    "name": "ipython",
    "version": 3
   },
   "file_extension": ".py",
   "mimetype": "text/x-python",
   "name": "python",
   "nbconvert_exporter": "python",
   "pygments_lexer": "ipython3",
   "version": "3.7.4"
  }
 },
 "nbformat": 4,
 "nbformat_minor": 2
}
